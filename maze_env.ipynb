{
 "cells": [
  {
   "cell_type": "code",
   "execution_count": 1,
   "metadata": {},
   "outputs": [],
   "source": [
    "import gym\n",
    "import numpy as np\n",
    "import matplotlib.pyplot as plt"
   ]
  },
  {
   "cell_type": "code",
   "execution_count": 2,
   "metadata": {},
   "outputs": [],
   "source": [
    "class MazeEnv(gym.Env):\n",
    "    def __init__(self):\n",
    "        self.state = None\n",
    "        pass\n",
    "    def reset(self):\n",
    "        self.state = 0\n",
    "        return self.state\n",
    "\n",
    "    def step(self, action):\n",
    "        if action == 0:\n",
    "            self.state -= 3\n",
    "        elif action == 1:\n",
    "            self.state += 1\n",
    "        elif action == 2:\n",
    "            self.state += 3\n",
    "        elif action == 3:\n",
    "            self.state -= 1\n",
    "        done = False\n",
    "        if self.state == 8:\n",
    "            reward = 1\n",
    "            done = True\n",
    "        else:\n",
    "            reward = 0\n",
    "        return self.state, reward, done, {}\n"
   ]
  },
  {
   "cell_type": "code",
   "execution_count": 3,
   "metadata": {},
   "outputs": [],
   "source": [
    "class Agent:\n",
    "    def __init__(self):\n",
    "        self.actions = list(range(4))\n",
    "        self.theta_0 = np.asarray([np.nan,1,1,np.nan],\n",
    "                                  [np.nan,1,np.nan,1],\n",
    "                                  [np.nan,np.nan,1,1],\n",
    "                                  [1,np.nan,np.nan,np.nan],\n",
    "                                  [np.nan,1,1,np.nan],\n",
    "                                  [1,np.nan,np.nan,1],\n",
    "                                  [np.nan,1,np.nan,np.nan],\n",
    "                                  [1,1,np.nan,1])\n",
    "        self.pi = self._cvt_theta(self.theta_0)\n",
    "    \n",
    "    def _cvt_theta(self, theta):\n",
    "        m, n = theta.shape\n",
    "        pi = np.zeros((m, n))\n",
    "        for i in range(m):\n",
    "            pi[i, :] = np.exp(theta[i, :]) / np.nansum(theta[i, :])\n",
    "    def act(self, state):\n",
    "        action = np.random.choice(self.actions, p=self.pi[state, :])"
   ]
  },
  {
   "cell_type": "code",
   "execution_count": 5,
   "metadata": {},
   "outputs": [],
   "source": [
    "env = MazeEnv()\n",
    "state = env.reset()\n",
    "agent = Agent()\n",
    "done = False"
   ]
  },
  {
   "cell_type": "code",
   "execution_count": null,
   "metadata": {},
   "outputs": [],
   "source": [
    "while not done:\n",
    "    action = agent.act(state)"
   ]
  }
 ],
 "metadata": {
  "kernelspec": {
   "display_name": "ai_lab",
   "language": "python",
   "name": "python3"
  },
  "language_info": {
   "codemirror_mode": {
    "name": "ipython",
    "version": 3
   },
   "file_extension": ".py",
   "mimetype": "text/x-python",
   "name": "python",
   "nbconvert_exporter": "python",
   "pygments_lexer": "ipython3",
   "version": "3.9.19"
  }
 },
 "nbformat": 4,
 "nbformat_minor": 2
}
